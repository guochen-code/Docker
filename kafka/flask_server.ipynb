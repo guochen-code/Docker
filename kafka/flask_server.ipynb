{
 "cells": [
  {
   "cell_type": "code",
   "execution_count": 1,
   "id": "5e4da271-9086-48d3-b288-8d142ac47841",
   "metadata": {},
   "outputs": [
    {
     "name": "stdout",
     "output_type": "stream",
     "text": [
      " * Serving Flask app \"__main__\" (lazy loading)\n",
      " * Environment: production\n",
      "\u001b[31m   WARNING: This is a development server. Do not use it in a production deployment.\u001b[0m\n",
      "\u001b[2m   Use a production WSGI server instead.\u001b[0m\n",
      " * Debug mode: off\n"
     ]
    },
    {
     "name": "stderr",
     "output_type": "stream",
     "text": [
      " * Running on http://127.0.0.1:5000/ (Press CTRL+C to quit)\n"
     ]
    }
   ],
   "source": [
    "from flask import Flask, Response\n",
    "import time\n",
    "import json  # Add import for the json module\n",
    "from kafka import KafkaConsumer\n",
    "\n",
    "app = Flask(__name__)\n",
    "\n",
    "def kafka_event_stream():\n",
    "    consumer = KafkaConsumer('sample', bootstrap_servers='localhost:9092,localhost:9093,localhost:9094', \n",
    "                             value_deserializer=lambda m: json.loads(m.decode('utf-8')))\n",
    "    for message in consumer:\n",
    "        yield f\"data: {json.dumps(message.value)}\\n\\n\"  # Serialize message value to JSON\n",
    "\n",
    "@app.route('/stream')\n",
    "def stream():\n",
    "    return Response(kafka_event_stream(), mimetype=\"text/event-stream\")\n",
    "\n",
    "if __name__ == '__main__':\n",
    "    app.run(debug=False)"
   ]
  },
  {
   "cell_type": "code",
   "execution_count": 4,
   "id": "9ae7f606-2e14-4ee5-98d5-f2aac7dc1a1b",
   "metadata": {},
   "outputs": [],
   "source": [
    "# !pip install kafka-python"
   ]
  },
  {
   "cell_type": "code",
   "execution_count": null,
   "id": "0955b419-675a-4ae6-91e4-559f1dd8e9fd",
   "metadata": {},
   "outputs": [
    {
     "name": "stdout",
     "output_type": "stream",
     "text": [
      " * Serving Flask app \"__main__\" (lazy loading)\n",
      " * Environment: production\n",
      "\u001b[31m   WARNING: This is a development server. Do not use it in a production deployment.\u001b[0m\n",
      "\u001b[2m   Use a production WSGI server instead.\u001b[0m\n",
      " * Debug mode: off\n"
     ]
    },
    {
     "name": "stderr",
     "output_type": "stream",
     "text": [
      " * Running on http://127.0.0.1:5000/ (Press CTRL+C to quit)\n",
      "127.0.0.1 - - [08/Apr/2024 15:39:23] \"GET /stream HTTP/1.1\" 200 -\n",
      "127.0.0.1 - - [08/Apr/2024 15:39:23] \"GET /stream HTTP/1.1\" 200 -\n",
      "127.0.0.1 - - [08/Apr/2024 15:39:23] \"GET /stream HTTP/1.1\" 200 -\n",
      "127.0.0.1 - - [08/Apr/2024 15:39:23] \"GET /stream HTTP/1.1\" 200 -\n",
      "127.0.0.1 - - [08/Apr/2024 15:39:23] \"GET /stream HTTP/1.1\" 200 -\n",
      "127.0.0.1 - - [08/Apr/2024 15:39:23] \"GET /stream HTTP/1.1\" 200 -\n",
      "127.0.0.1 - - [08/Apr/2024 15:39:23] \"GET /stream HTTP/1.1\" 200 -\n",
      "127.0.0.1 - - [08/Apr/2024 15:39:23] \"GET /stream HTTP/1.1\" 200 -\n",
      "127.0.0.1 - - [08/Apr/2024 15:39:23] \"GET /stream HTTP/1.1\" 200 -\n",
      "127.0.0.1 - - [08/Apr/2024 15:39:23] \"GET /stream HTTP/1.1\" 200 -\n",
      "127.0.0.1 - - [08/Apr/2024 15:39:23] \"GET /stream HTTP/1.1\" 200 -\n",
      "127.0.0.1 - - [08/Apr/2024 15:39:23] \"GET /stream HTTP/1.1\" 200 -\n",
      "127.0.0.1 - - [08/Apr/2024 15:39:23] \"GET /stream HTTP/1.1\" 200 -\n",
      "127.0.0.1 - - [08/Apr/2024 15:39:23] \"GET /stream HTTP/1.1\" 200 -\n",
      "127.0.0.1 - - [08/Apr/2024 15:39:23] \"GET /stream HTTP/1.1\" 200 -\n",
      "127.0.0.1 - - [08/Apr/2024 15:39:23] \"GET /stream HTTP/1.1\" 200 -\n",
      "127.0.0.1 - - [08/Apr/2024 15:39:23] \"GET /stream HTTP/1.1\" 200 -\n",
      "127.0.0.1 - - [08/Apr/2024 15:39:23] \"GET /stream HTTP/1.1\" 200 -\n",
      "127.0.0.1 - - [08/Apr/2024 15:39:23] \"GET /stream HTTP/1.1\" 200 -\n",
      "127.0.0.1 - - [08/Apr/2024 15:39:23] \"GET /stream HTTP/1.1\" 200 -\n",
      "127.0.0.1 - - [08/Apr/2024 15:39:23] \"GET /stream HTTP/1.1\" 200 -\n",
      "127.0.0.1 - - [08/Apr/2024 15:39:23] \"GET /stream HTTP/1.1\" 200 -\n",
      "127.0.0.1 - - [08/Apr/2024 15:39:23] \"GET /stream HTTP/1.1\" 200 -\n",
      "127.0.0.1 - - [08/Apr/2024 15:39:23] \"GET /stream HTTP/1.1\" 200 -\n",
      "127.0.0.1 - - [08/Apr/2024 15:39:23] \"GET /stream HTTP/1.1\" 200 -\n",
      "127.0.0.1 - - [08/Apr/2024 15:39:23] \"GET /stream HTTP/1.1\" 200 -\n",
      "127.0.0.1 - - [08/Apr/2024 15:39:23] \"GET /stream HTTP/1.1\" 200 -\n",
      "127.0.0.1 - - [08/Apr/2024 15:39:23] \"GET /stream HTTP/1.1\" 200 -\n",
      "127.0.0.1 - - [08/Apr/2024 15:39:23] \"GET /stream HTTP/1.1\" 200 -\n",
      "127.0.0.1 - - [08/Apr/2024 15:39:23] \"GET /stream HTTP/1.1\" 200 -\n",
      "127.0.0.1 - - [08/Apr/2024 15:39:23] \"GET /stream HTTP/1.1\" 200 -\n",
      "127.0.0.1 - - [08/Apr/2024 15:39:23] \"GET /stream HTTP/1.1\" 200 -\n",
      "127.0.0.1 - - [08/Apr/2024 15:39:23] \"GET /stream HTTP/1.1\" 200 -\n",
      "127.0.0.1 - - [08/Apr/2024 15:39:23] \"GET /stream HTTP/1.1\" 200 -\n",
      "127.0.0.1 - - [08/Apr/2024 15:39:23] \"GET /stream HTTP/1.1\" 200 -\n",
      "127.0.0.1 - - [08/Apr/2024 15:39:23] \"GET /stream HTTP/1.1\" 200 -\n",
      "127.0.0.1 - - [08/Apr/2024 15:39:23] \"GET /stream HTTP/1.1\" 200 -\n",
      "127.0.0.1 - - [08/Apr/2024 15:39:23] \"GET /stream HTTP/1.1\" 200 -\n",
      "127.0.0.1 - - [08/Apr/2024 15:39:23] \"GET /stream HTTP/1.1\" 200 -\n",
      "127.0.0.1 - - [08/Apr/2024 15:39:23] \"GET /stream HTTP/1.1\" 200 -\n",
      "127.0.0.1 - - [08/Apr/2024 15:39:23] \"GET /stream HTTP/1.1\" 200 -\n",
      "127.0.0.1 - - [08/Apr/2024 15:39:23] \"GET /stream HTTP/1.1\" 200 -\n",
      "127.0.0.1 - - [08/Apr/2024 15:39:23] \"GET /stream HTTP/1.1\" 200 -\n",
      "127.0.0.1 - - [08/Apr/2024 15:39:23] \"GET /stream HTTP/1.1\" 200 -\n",
      "127.0.0.1 - - [08/Apr/2024 15:39:23] \"GET /stream HTTP/1.1\" 200 -\n",
      "127.0.0.1 - - [08/Apr/2024 15:39:23] \"GET /stream HTTP/1.1\" 200 -\n",
      "127.0.0.1 - - [08/Apr/2024 15:39:23] \"GET /stream HTTP/1.1\" 200 -\n",
      "127.0.0.1 - - [08/Apr/2024 15:39:23] \"GET /stream HTTP/1.1\" 200 -\n",
      "127.0.0.1 - - [08/Apr/2024 15:39:23] \"GET /stream HTTP/1.1\" 200 -\n",
      "127.0.0.1 - - [08/Apr/2024 15:39:23] \"GET /stream HTTP/1.1\" 200 -\n",
      "127.0.0.1 - - [08/Apr/2024 15:39:23] \"GET /stream HTTP/1.1\" 200 -\n",
      "127.0.0.1 - - [08/Apr/2024 15:39:23] \"GET /stream HTTP/1.1\" 200 -\n",
      "127.0.0.1 - - [08/Apr/2024 15:39:23] \"GET /stream HTTP/1.1\" 200 -\n",
      "127.0.0.1 - - [08/Apr/2024 15:39:23] \"GET /stream HTTP/1.1\" 200 -\n",
      "127.0.0.1 - - [08/Apr/2024 15:39:23] \"GET /stream HTTP/1.1\" 200 -\n",
      "127.0.0.1 - - [08/Apr/2024 15:39:23] \"GET /stream HTTP/1.1\" 200 -\n",
      "127.0.0.1 - - [08/Apr/2024 15:39:23] \"GET /stream HTTP/1.1\" 200 -\n",
      "127.0.0.1 - - [08/Apr/2024 15:39:23] \"GET /stream HTTP/1.1\" 200 -\n",
      "127.0.0.1 - - [08/Apr/2024 15:39:23] \"GET /stream HTTP/1.1\" 200 -\n",
      "127.0.0.1 - - [08/Apr/2024 15:39:23] \"GET /stream HTTP/1.1\" 200 -\n",
      "127.0.0.1 - - [08/Apr/2024 15:39:23] \"GET /stream HTTP/1.1\" 200 -\n",
      "127.0.0.1 - - [08/Apr/2024 15:39:23] \"GET /stream HTTP/1.1\" 200 -\n",
      "127.0.0.1 - - [08/Apr/2024 15:39:23] \"GET /stream HTTP/1.1\" 200 -\n",
      "127.0.0.1 - - [08/Apr/2024 15:39:23] \"GET /stream HTTP/1.1\" 200 -\n",
      "127.0.0.1 - - [08/Apr/2024 15:39:23] \"GET /stream HTTP/1.1\" 200 -\n",
      "127.0.0.1 - - [08/Apr/2024 15:39:23] \"GET /stream HTTP/1.1\" 200 -\n",
      "127.0.0.1 - - [08/Apr/2024 15:39:23] \"GET /stream HTTP/1.1\" 200 -\n",
      "127.0.0.1 - - [08/Apr/2024 15:39:23] \"GET /stream HTTP/1.1\" 200 -\n",
      "127.0.0.1 - - [08/Apr/2024 15:39:23] \"GET /stream HTTP/1.1\" 200 -\n",
      "127.0.0.1 - - [08/Apr/2024 15:39:23] \"GET /stream HTTP/1.1\" 200 -\n",
      "127.0.0.1 - - [08/Apr/2024 15:39:23] \"GET /stream HTTP/1.1\" 200 -\n",
      "127.0.0.1 - - [08/Apr/2024 15:39:23] \"GET /stream HTTP/1.1\" 200 -\n",
      "127.0.0.1 - - [08/Apr/2024 15:39:23] \"GET /stream HTTP/1.1\" 200 -\n",
      "127.0.0.1 - - [08/Apr/2024 15:39:23] \"GET /stream HTTP/1.1\" 200 -\n",
      "127.0.0.1 - - [08/Apr/2024 15:39:23] \"GET /stream HTTP/1.1\" 200 -\n",
      "127.0.0.1 - - [08/Apr/2024 15:39:23] \"GET /stream HTTP/1.1\" 200 -\n",
      "127.0.0.1 - - [08/Apr/2024 15:39:23] \"GET /stream HTTP/1.1\" 200 -\n",
      "127.0.0.1 - - [08/Apr/2024 15:39:23] \"GET /stream HTTP/1.1\" 200 -\n",
      "127.0.0.1 - - [08/Apr/2024 15:39:23] \"GET /stream HTTP/1.1\" 200 -\n",
      "127.0.0.1 - - [08/Apr/2024 15:39:23] \"GET /stream HTTP/1.1\" 200 -\n",
      "127.0.0.1 - - [08/Apr/2024 15:39:23] \"GET /stream HTTP/1.1\" 200 -\n",
      "127.0.0.1 - - [08/Apr/2024 15:39:23] \"GET /stream HTTP/1.1\" 200 -\n",
      "127.0.0.1 - - [08/Apr/2024 15:39:23] \"GET /stream HTTP/1.1\" 200 -\n",
      "127.0.0.1 - - [08/Apr/2024 15:39:23] \"GET /stream HTTP/1.1\" 200 -\n",
      "127.0.0.1 - - [08/Apr/2024 15:39:23] \"GET /stream HTTP/1.1\" 200 -\n",
      "127.0.0.1 - - [08/Apr/2024 15:39:23] \"GET /stream HTTP/1.1\" 200 -\n",
      "127.0.0.1 - - [08/Apr/2024 15:39:23] \"GET /stream HTTP/1.1\" 200 -\n",
      "127.0.0.1 - - [08/Apr/2024 15:39:23] \"GET /stream HTTP/1.1\" 200 -\n",
      "127.0.0.1 - - [08/Apr/2024 15:39:23] \"GET /stream HTTP/1.1\" 200 -\n",
      "127.0.0.1 - - [08/Apr/2024 15:39:23] \"GET /stream HTTP/1.1\" 200 -\n",
      "127.0.0.1 - - [08/Apr/2024 15:39:23] \"GET /stream HTTP/1.1\" 200 -\n",
      "127.0.0.1 - - [08/Apr/2024 15:39:23] \"GET /stream HTTP/1.1\" 200 -\n",
      "127.0.0.1 - - [08/Apr/2024 15:39:23] \"GET /stream HTTP/1.1\" 200 -\n",
      "127.0.0.1 - - [08/Apr/2024 15:39:23] \"GET /stream HTTP/1.1\" 200 -\n",
      "127.0.0.1 - - [08/Apr/2024 15:39:23] \"GET /stream HTTP/1.1\" 200 -\n",
      "127.0.0.1 - - [08/Apr/2024 15:39:23] \"GET /stream HTTP/1.1\" 200 -\n",
      "127.0.0.1 - - [08/Apr/2024 15:39:24] \"GET /stream HTTP/1.1\" 200 -\n",
      "127.0.0.1 - - [08/Apr/2024 15:39:24] \"GET /stream HTTP/1.1\" 200 -\n",
      "127.0.0.1 - - [08/Apr/2024 15:39:24] \"GET /stream HTTP/1.1\" 200 -\n",
      "127.0.0.1 - - [08/Apr/2024 15:39:24] \"GET /stream HTTP/1.1\" 200 -\n"
     ]
    }
   ],
   "source": [
    "from flask import Flask, Response\n",
    "import time\n",
    "from kafka import KafkaConsumer\n",
    " \n",
    "app = Flask(__name__)\n",
    " \n",
    "def kafka_event_stream():\n",
    "    consumer = KafkaConsumer('sample', bootstrap_servers='localhost:9092,localhost:9093,localhost:9094')\n",
    "    for message in consumer:\n",
    "        yield f\"data: {message.value.decode('utf-8')}\\n\\n\"\n",
    " \n",
    "@app.route('/stream')\n",
    "def stream():\n",
    "    return Response(kafka_event_stream(), mimetype=\"text/event-stream\")\n",
    " \n",
    "if __name__ == '__main__':\n",
    "    app.run(debug=False)"
   ]
  },
  {
   "cell_type": "code",
   "execution_count": null,
   "id": "fe1c0d7c-3d34-4878-8fae-d061bb785f5c",
   "metadata": {},
   "outputs": [],
   "source": []
  }
 ],
 "metadata": {
  "kernelspec": {
   "display_name": "Python 3 (ipykernel)",
   "language": "python",
   "name": "python3"
  },
  "language_info": {
   "codemirror_mode": {
    "name": "ipython",
    "version": 3
   },
   "file_extension": ".py",
   "mimetype": "text/x-python",
   "name": "python",
   "nbconvert_exporter": "python",
   "pygments_lexer": "ipython3",
   "version": "3.9.13"
  }
 },
 "nbformat": 4,
 "nbformat_minor": 5
}
