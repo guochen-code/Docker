{
 "cells": [
  {
   "cell_type": "code",
   "execution_count": 2,
   "id": "46bc5ae9-9296-453a-9e24-bab5e6870b3f",
   "metadata": {},
   "outputs": [
    {
     "name": "stdout",
     "output_type": "stream",
     "text": [
      "usage: gunicorn [OPTIONS] [APP_MODULE]\n",
      "gunicorn: error: unrecognized arguments: --debug\n"
     ]
    }
   ],
   "source": [
    "!gunicorn -w 4 -b 127.0.0.1:5000 wsgi:app --debug "
   ]
  },
  {
   "cell_type": "code",
   "execution_count": null,
   "id": "505ea229-3f97-4e70-b7b4-6fa355b6f178",
   "metadata": {},
   "outputs": [],
   "source": [
    "import urllib.request as request\n",
    "import threading\n",
    "\n",
    "def consume_stream(url, thread_id):\n",
    "    with request.urlopen(url) as response:\n",
    "        if response.getcode() == 200:\n",
    "            for line in response:\n",
    "                print(f\"Thread {thread_id}: {line.decode('utf-8')}\")  # Print thread ID along with the data\n",
    "        else:\n",
    "            print(f\"Thread {thread_id}: Failed to connect to the stream endpoint. Status code: {response.getcode()}\")\n",
    "\n",
    "def main():\n",
    "    stream_url = 'http://127.0.0.1:5000/stream'  # Replace with your streaming URL\n",
    "    num_threads = 1000  # Change the number of threads as needed\n",
    "\n",
    "    # Create and start multiple threads\n",
    "    threads = []\n",
    "    for i in range(num_threads):\n",
    "        thread = threading.Thread(target=consume_stream, args=(stream_url, i))\n",
    "        thread.start()\n",
    "        threads.append(thread)\n",
    "\n",
    "    # Wait for all threads to finish\n",
    "    for thread in threads:\n",
    "        thread.join()\n",
    "\n",
    "if __name__ == \"__main__\":\n",
    "    main()"
   ]
  },
  {
   "cell_type": "code",
   "execution_count": null,
   "id": "d5046c1d-129c-47ec-b55a-d4b9255ee32e",
   "metadata": {},
   "outputs": [],
   "source": []
  },
  {
   "cell_type": "code",
   "execution_count": null,
   "id": "fdc5c384-d754-4d2e-81e2-1c62350f85d3",
   "metadata": {},
   "outputs": [],
   "source": [
    "import urllib.request as request\n",
    "import threading\n",
    "\n",
    "def consume_stream(url, thread_id):\n",
    "    with request.urlopen(url) as response:\n",
    "        if response.getcode() == 200:\n",
    "            for line in response:\n",
    "                print(f\"Thread {thread_id}: {line.decode('utf-8')}\")  # Print thread ID along with the data\n",
    "        else:\n",
    "            print(f\"Thread {thread_id}: Failed to connect to the stream endpoint. Status code: {response.getcode()}\")\n",
    "\n",
    "def main():\n",
    "    stream_url = 'http://127.0.0.1:8000/stream'  # Replace with your streaming URL\n",
    "    num_threads = 400  # Change the number of threads as needed\n",
    "\n",
    "    # Create and start multiple threads\n",
    "    threads = []\n",
    "    for i in range(num_threads):\n",
    "        thread = threading.Thread(target=consume_stream, args=(stream_url, i))\n",
    "        thread.start()\n",
    "        threads.append(thread)\n",
    "\n",
    "    # Wait for all threads to finish\n",
    "    for thread in threads:\n",
    "        thread.join()\n",
    "\n",
    "if __name__ == \"__main__\":\n",
    "    main()"
   ]
  },
  {
   "cell_type": "code",
   "execution_count": null,
   "id": "807221e7-0846-4bd5-a66b-9f8ad5650c8b",
   "metadata": {},
   "outputs": [],
   "source": [
    "\n"
   ]
  },
  {
   "cell_type": "code",
   "execution_count": null,
   "id": "adef5738-54b8-4739-95aa-d3af5fe4eaba",
   "metadata": {},
   "outputs": [],
   "source": []
  },
  {
   "cell_type": "code",
   "execution_count": 2,
   "id": "5bb9830f-5c02-423f-a546-1ea5146ea1e8",
   "metadata": {},
   "outputs": [
    {
     "name": "stdout",
     "output_type": "stream",
     "text": [
      "('console-consumer-2328', 'consumer')\n",
      "('schema-registry', 'sr')\n",
      "('kafka-connect', 'connect')\n"
     ]
    }
   ],
   "source": [
    "from kafka import KafkaAdminClient\n",
    " \n",
    "# Define Kafka broker(s)\n",
    "bootstrap_servers = 'localhost:9092,localhost:9093,localhost:9094'\n",
    " \n",
    "# Create KafkaAdminClient\n",
    "admin_client = KafkaAdminClient(bootstrap_servers=bootstrap_servers)\n",
    " \n",
    "# List all consumer groups\n",
    "consumer_groups = admin_client.list_consumer_groups()\n",
    " \n",
    "# Print active consumer groups\n",
    "for group in consumer_groups:\n",
    "    print(group)\n",
    " \n",
    "# Close admin client\n",
    "admin_client.close()"
   ]
  },
  {
   "cell_type": "code",
   "execution_count": null,
   "id": "1f9b2d76-67b2-481f-9880-2bc7c733fb41",
   "metadata": {},
   "outputs": [],
   "source": []
  }
 ],
 "metadata": {
  "kernelspec": {
   "display_name": "Python 3 (ipykernel)",
   "language": "python",
   "name": "python3"
  },
  "language_info": {
   "codemirror_mode": {
    "name": "ipython",
    "version": 3
   },
   "file_extension": ".py",
   "mimetype": "text/x-python",
   "name": "python",
   "nbconvert_exporter": "python",
   "pygments_lexer": "ipython3",
   "version": "3.9.13"
  }
 },
 "nbformat": 4,
 "nbformat_minor": 5
}
